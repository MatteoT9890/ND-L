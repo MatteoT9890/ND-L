{
 "cells": [
  {
   "cell_type": "markdown",
   "metadata": {},
   "source": [
    "**Write down a Matlab or Python code to simulate the averaging dynamics with stubborn node\n",
    "set S = {Medici; Strozzi} and opinions u[medici] = 1 and u[strozzi] = -1**"
   ]
  },
  {
   "cell_type": "markdown",
   "metadata": {},
   "source": [
    "Util functions to solve the exercise 3"
   ]
  },
  {
   "cell_type": "code",
   "execution_count": 14,
   "metadata": {},
   "outputs": [],
   "source": [
    "def map_label_index(nodes):\n",
    "    indices = dict()\n",
    "    for i in range(len(nodes)):\n",
    "        indices[list(nodes)[i]] = i\n",
    "        \n",
    "    return indices,len(indices)\n",
    "\n",
    "def create_graph(nodes,edges):\n",
    "    G = nx.Graph()\n",
    "    G.add_nodes_from(florence_families)\n",
    "    G.add_edges_from(links)\n",
    "    return G\n",
    "\n",
    "def get_P_matrix(G):\n",
    "    A = nx.adjacency_matrix(G) # -> return type is scipy.sparse.csr_matrix\n",
    "    A = A.toarray() # convert A to a numpy array\n",
    "    degrees = np.sum(A,axis=1)\n",
    "    D = np.diag(degrees)\n",
    "    P = np.linalg.inv(D) @ A\n",
    "    \n",
    "    return P\n",
    "\n",
    "def get_submatrices(P,regular_id,stubborn_id):\n",
    "    # Submatrices\n",
    "    # Using ix_ one can construct index arrays that will \n",
    "    # index a cross product.\n",
    "    \n",
    "    #For instamce:\n",
    "    # a[np.ix_([1,3],[2,5])] returns the array [[a[1,2] a[1,5]], [a[3,2] a[3,5]]].\n",
    "    Q = P[np.ix_(regular_id, regular_id)]\n",
    "    E = P[np.ix_(regular_id, stubborn_id)]\n",
    "    \n",
    "    return Q,E\n",
    "\n",
    "def evolve(x,n_iter,regular_id,stubborn_id,Q,E):\n",
    "    for t in range(1,n_iter):\n",
    "        x[regular_id, t] = Q @ x[regular_id, t-1] + E @ x[stubborn_id, t-1]\n",
    "        x[stubborn_id, t] = x[stubborn_id, t-1];\n",
    "    \n",
    "    return x[:,n_iter-1]"
   ]
  },
  {
   "cell_type": "code",
   "execution_count": 15,
   "metadata": {},
   "outputs": [
    {
     "name": "stdout",
     "output_type": "stream",
     "text": [
      "Initial condition:\n",
      "\n",
      "\t Lamberteschi : 0.4173394158212741\n",
      "\t Guadagni : 0.637951683828963\n",
      "\t Bischeri : 0.43653485372749545\n",
      "\t Peruzzi : 0.25394036343978155\n",
      "\t Strozzi : -1.0\n",
      "\t Tornabuoni : 0.3603337973462736\n",
      "\t Ridolfi : 0.7062446341561498\n",
      "\t Albizzi : 0.7618103639058813\n",
      "\t Ginori : 0.3243441693957011\n",
      "\t Barbadori : 0.42511180113418734\n",
      "\t Medici : 1.0\n",
      "\t Salviati : 0.7624325126113394\n",
      "\t Pazzi : 0.3107102046828415\n",
      "\t Acciaiuoli : 0.6303610657773953\n",
      "\t Castellani : 0.6698475882918008\n",
      "\n",
      "\n",
      "Equilibrium vector:\n",
      "\n",
      "\t Lamberteschi 0.272739944266165\n",
      "\t Guadagni 0.2727384621224072\n",
      "\t Bischeri -0.45454003348570093\n",
      "\t Peruzzi -0.6363604648242962\n",
      "\t Strozzi -1.0\n",
      "\t Tornabuoni 0.6363699721330824\n",
      "\t Ridolfi 0.0\n",
      "\t Albizzi 0.6363722735035462\n",
      "\t Ginori 0.6363753276237629\n",
      "\t Barbadori 0.27272836105366244\n",
      "\t Medici 1.0\n",
      "\t Salviati 0.9999999794575634\n",
      "\t Pazzi 0.9999999858398743\n",
      "\t Acciaiuoli 1.0\n",
      "\t Castellani -0.45454384650343627\n"
     ]
    }
   ],
   "source": [
    "import networkx as nx\n",
    "import numpy as np\n",
    "\n",
    "\n",
    "\n",
    "\n",
    "#Creating graph of florence_families\n",
    "florence_families = ['Lamberteschi','Guadagni','Bischeri','Peruzzi','Strozzi','Tornabuoni','Ridolfi','Albizzi','Ginori','Barbadori','Medici','Salviati','Pazzi','Acciaiuoli','Castellani']\n",
    "\n",
    "\n",
    "links = [('Lamberteschi', 'Guadagni'), ('Guadagni','Albizzi'), ('Guadagni','Tornabuoni'), \n",
    "             ('Guadagni','Bischeri'), ('Bischeri','Peruzzi'), ('Bischeri','Strozzi'), ('Peruzzi','Castellani'), \n",
    "             ('Peruzzi','Strozzi'), ('Strozzi','Castellani'), ('Strozzi', 'Ridolfi'), ('Ridolfi','Medici'), \n",
    "             ('Castellani', 'Barbadori'), ('Barbadori','Medici'), ('Tornabuoni', 'Medici'), ('Albizzi','Medici'), \n",
    "             ('Albizzi','Ginori'),('Medici','Acciaiuoli'),('Medici','Salviati'),('Salviati','Pazzi')]\n",
    "\n",
    "G = create_graph(florence_families,links)\n",
    "\n",
    "# Construct a dictionary that maps the label of nodes  \n",
    "\n",
    "label_index,n_nodes = map_label_index(G.nodes)\n",
    "\n",
    "# Number of iterations\n",
    "n_iter = 50;\n",
    "    \n",
    "# Stubborn and regular nodes\n",
    "stubborn = [\"Medici\",\"Strozzi\"];\n",
    "stubborn_id = [label_index.get(key) for key in stubborn]\n",
    "regular = [node for node in G.nodes if node not in stubborn]\n",
    "regular_id = [id for id in range(n_nodes) if id not in stubborn_id]\n",
    "\n",
    "# Input to stubborn nodes\n",
    "u = [1,-1]\n",
    "\n",
    "# P matrix\n",
    "P = get_P_matrix(G)\n",
    "\n",
    "# Q,E submatrix of P, selected accordingly to the choosen regular nodes and stubborn nodes\n",
    "Q,E = get_submatrices(P,regular_id,stubborn_id)\n",
    "\n",
    "# Sample a random initial condition for regular nodes\n",
    "ic = np.random.uniform(0,1,len(regular))\n",
    "\n",
    "# Set the initial condition for the dynamics\n",
    "x = np.zeros((n_nodes,n_iter))\n",
    "x[stubborn_id,0] = u;\n",
    "x[regular_id,0] = ic;\n",
    "\n",
    "#Displaying the initial condition\n",
    "print(\"Initial condition:\\n\")\n",
    "for i,fam in enumerate(florence_families):\n",
    "    print(\"\\t\",fam,\":\", x[i,0])\n",
    "    \n",
    "# Evolve the opinion vector\n",
    "x_final = evolve(x,n_iter,regular_id,stubborn_id,Q,E)\n",
    "\n",
    "#Displaying the equilibrium vector\n",
    "print(\"\\n\\nEquilibrium vector:\\n\")\n",
    "for key in label_index.keys():\n",
    "    print(\"\\t\",key, x_final[label_index[key]])\n"
   ]
  },
  {
   "cell_type": "markdown",
   "metadata": {},
   "source": [
    "**Plot the trajectories of\n",
    "the different states**"
   ]
  },
  {
   "cell_type": "code",
   "execution_count": 20,
   "metadata": {},
   "outputs": [
    {
     "data": {
      "text/plain": [
       "<matplotlib.legend.Legend at 0x2cd90776808>"
      ]
     },
     "execution_count": 20,
     "metadata": {},
     "output_type": "execute_result"
    },
    {
     "data": {
      "image/png": "[encoded data removed]",
      "text/plain": [
       "<Figure size 504x504 with 1 Axes>"
      ]
     },
     "metadata": {
      "needs_background": "light"
     },
     "output_type": "display_data"
    }
   ],
   "source": [
    "import matplotlib.pyplot as plt\n",
    "    \n",
    "fig = plt.figure(1, figsize=(7,7))\n",
    "ax = plt.subplot(111)\n",
    "\n",
    "for node in range(n_nodes):\n",
    "    trajectory = x[node,:]\n",
    "    ax.plot(trajectory, label='node {0:d}'.format(node))\n",
    "    \n",
    "ax.legend()"
   ]
  },
  {
   "cell_type": "markdown",
   "metadata": {},
   "source": [
    "**Write down a Matlab or Pythoncode for the iterative distributed computation of the PageRank\n",
    "centrality in the network with beta = 0:15 and uniform input.**"
   ]
  },
  {
   "cell_type": "code",
   "execution_count": 19,
   "metadata": {},
   "outputs": [
    {
     "name": "stdout",
     "output_type": "stream",
     "text": [
      "Page rank centrality (beta=0.15)\n",
      "\n",
      "\t Lamberteschi : 0.03202361270141346\n",
      "\t Guadagni : 0.10364052130291306\n",
      "\t Bischeri : 0.07152745099128631\n",
      "\t Peruzzi : 0.07018675144820488\n",
      "\t Strozzi : 0.09231806222254475\n",
      "\t Tornabuoni : 0.05384755399410703\n",
      "\t Ridolfi : 0.05144153142875734\n",
      "\t Albizzi : 0.08212631068820904\n",
      "\t Ginori : 0.033269123254251264\n",
      "\t Barbadori : 0.05212698958763654\n",
      "\t Medici : 0.15405133671043983\n",
      "\t Salviati : 0.06312946352993962\n",
      "\t Pazzi : 0.03683002389108802\n",
      "\t Acciaiuoli : 0.03182394129269357\n",
      "\t Castellani : 0.07165781076521452\n"
     ]
    }
   ],
   "source": [
    "n_iter = 100\n",
    "beta = 0.15\n",
    "\n",
    "intr_centrality = np.ones(n_nodes)/n_nodes\n",
    "\n",
    "\n",
    "y = np.random.uniform(0,1,n_nodes)\n",
    "#Evolve the system \n",
    "for _ in range(n_iter):\n",
    "    y = (1-beta)*P.T @ y + beta*intr_centrality\n",
    "\n",
    "    \n",
    "print(f\"Page rank centrality (beta={beta})\\n\")\n",
    "for i,fam in enumerate(families):\n",
    "    print(\"\\t\",fam,\":\", y[i])"
   ]
  }
 ],
 "metadata": {
  "kernelspec": {
   "display_name": "Python 3",
   "language": "python",
   "name": "python3"
  },
  "language_info": {
   "codemirror_mode": {
    "name": "ipython",
    "version": 3
   },
   "file_extension": ".py",
   "mimetype": "text/x-python",
   "name": "python",
   "nbconvert_exporter": "python",
   "pygments_lexer": "ipython3",
   "version": "3.7.4"
  }
 },
 "nbformat": 4,
 "nbformat_minor": 2
}
