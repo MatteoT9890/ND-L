{
 "cells": [
  {
   "cell_type": "markdown",
   "metadata": {},
   "source": [
    "**Exercise 1**"
   ]
  },
  {
   "cell_type": "markdown",
   "metadata": {},
   "source": [
    "a) What is, according to the simulations, the average time it takes a particle that starts in node\n",
    "a to leave the node and then return to it?"
   ]
  },
  {
   "cell_type": "code",
   "execution_count": 146,
   "metadata": {},
   "outputs": [],
   "source": [
    "import networkx as nx\n",
    "import numpy as np\n",
    "from numpy.random import choice, rand\n",
    "import matplotlib.pyplot as plt\n",
    "import random as rnd\n",
    "import math"
   ]
  },
  {
   "cell_type": "code",
   "execution_count": 147,
   "metadata": {},
   "outputs": [
    {
     "name": "stdout",
     "output_type": "stream",
     "text": [
      "The expected analytical return time is 27/4 seconds\n",
      "The expected return time obtained with 10000 iterations is: 6.779 seconds\n",
      "The percentage variation between the analytical result and the simulated results is:0.427%\n"
     ]
    }
   ],
   "source": [
    "## CONSTRUCTION OF GRAPH G ##\n",
    "nodes = [\"o\", \"a\", \"b\", \"c\", \"d\"]\n",
    "edges = [(\"o\", \"a\"), (\"o\", \"b\"), (\"a\", \"b\"), (\"a\", \"c\"), (\"b\", \"o\"), (\"b\", \"c\"), (\"c\", \"b\"), (\"c\", \"d\"), (\"d\", \"a\"), (\"d\", \"c\")]\n",
    "\n",
    "G = nx.DiGraph(directed = True)\n",
    "G.add_nodes_from(nodes)\n",
    "G.add_edges_from(edges)\n",
    "\n",
    "## TRANSITION MATRIX ##\n",
    "# defining the transition matrix\n",
    "t_m = [\n",
    "    [0, 2/5, 1/5, 0, 0],\n",
    "    [0, 0, 3/4, 1/4, 0],\n",
    "    [1/2, 0, 0, 1/2, 0],\n",
    "    [0, 0, 1/3, 0, 2/3],\n",
    "    [0, 1/3, 0, 1/3, 0]\n",
    "]\n",
    "\n",
    "w = np.sum(t_m, axis = 1)\n",
    "w_star = np.max(w)\n",
    "P = t_m/w_star\n",
    "P = P + np.diag(np.ones(P.shape[0]) - np.sum(P, axis = 1))\n",
    "\n",
    "a_pos = nodes.index('a')\n",
    "\n",
    "iterations = 10000\n",
    "return_times = []\n",
    "P_cum = np.cumsum(P, axis=1)\n",
    "\n",
    "for _ in range(iterations):\n",
    "    time = 0\n",
    "    current_pos = None\n",
    "    start = True\n",
    "    while current_pos != a_pos:\n",
    "        current_pos = a_pos if start else next_hop\n",
    "        next_hop = np.argwhere(P_cum[current_pos] > np.random.rand())[0][0]\n",
    "        t_next = -np.log(np.random.rand()) / w_star\n",
    "        time = time + t_next\n",
    "        \n",
    "        current_pos = next_hop\n",
    "        start = False\n",
    "        \n",
    "    return_times.append(time)\n",
    "\n",
    "return_times = np.array(return_times)\n",
    "\n",
    "exp_return_time = return_times.mean()\n",
    "\n",
    "theoretical_exp_return_time = round(27/4,3)\n",
    "theoretical_variation = round(100*(exp_return_time - theoretical_exp_return_time)/theoretical_exp_return_time,3)\n",
    "\n",
    "print(f\"The expected analytical return time is 27/4 seconds\")\n",
    "print(f\"The expected return time obtained with {iterations} iterations is: {exp_return_time:.3f} seconds\")\n",
    "print(f\"The percentage variation between the analytical result and the simulated results is:{theoretical_variation}%\")"
   ]
  },
  {
   "cell_type": "markdown",
   "metadata": {},
   "source": [
    "(b) What is, according to the simulations, the average time it takes to move from node o to node\n",
    "d?"
   ]
  },
  {
   "cell_type": "code",
   "execution_count": 148,
   "metadata": {},
   "outputs": [
    {
     "name": "stdout",
     "output_type": "stream",
     "text": [
      "The expected analytical hitting time from source o to destination d is 123/14 seconds\n",
      "The expected return time obtained with 10000 iterations is: 8.876 seconds\n",
      "The percentage variation between the analytical result and the simulated results is:1.029%\n"
     ]
    }
   ],
   "source": [
    "source_pos = nodes.index(\"o\")\n",
    "dest_pos = nodes.index(\"d\")\n",
    "\n",
    "n_iterations = 10000\n",
    "hitting_times=[]\n",
    "P_cum = np.cumsum(P, axis = 1)\n",
    "\n",
    "for _ in range(n_iterations):\n",
    "    time = 0\n",
    "    current_pos = None\n",
    "    start = True\n",
    "    while current_pos != dest_pos:\n",
    "        current_pos = source_pos if start else next_hop\n",
    "        next_hop = np.argwhere(P_cum[current_pos] > np.random.rand())[0][0]\n",
    "        t_next = -np.log(np.random.rand()) / w_star\n",
    "        time = time + t_next\n",
    "\n",
    "        current_pos = next_hop\n",
    "        start = False\n",
    "        \n",
    "    hitting_times.append(time)\n",
    "\n",
    "            \n",
    "hitting_times = np.array(hitting_times)\n",
    "\n",
    "exp_hitting_time = hitting_times.mean()\n",
    "\n",
    "theoretical_exp_hitting_time = 123/14\n",
    "theoretical_variation = round(100*(exp_hitting_time - theoretical_exp_hitting_time)/theoretical_exp_hitting_time,3)\n",
    "\n",
    "print(f\"The expected analytical hitting time from source o to destination d is 123/14 seconds\")\n",
    "print(f\"The expected return time obtained with {iterations} iterations is: {exp_hitting_time:.3f} seconds\")\n",
    "print(f\"The percentage variation between the analytical result and the simulated results is:{theoretical_variation}%\")"
   ]
  }
 ],
 "metadata": {
  "kernelspec": {
   "display_name": "Python 3",
   "language": "python",
   "name": "python3"
  },
  "language_info": {
   "codemirror_mode": {
    "name": "ipython",
    "version": 3
   },
   "file_extension": ".py",
   "mimetype": "text/x-python",
   "name": "python",
   "nbconvert_exporter": "python",
   "pygments_lexer": "ipython3",
   "version": "3.7.4"
  }
 },
 "nbformat": 4,
 "nbformat_minor": 2
}
