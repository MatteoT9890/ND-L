{
 "cells": [
  {
   "cell_type": "markdown",
   "metadata": {},
   "source": [
    "**Write down a Matlab or Python code to simulate the averaging dynamics with stubborn node\n",
    "set S = {Medici; Strozzi} and opinions u[medici] = 1 and u[strozzi] = -1**"
   ]
  },
  {
   "cell_type": "markdown",
   "metadata": {},
   "source": [
    "Util functions to solve the exercise 4"
   ]
  },
  {
   "cell_type": "code",
   "execution_count": 120,
   "metadata": {},
   "outputs": [],
   "source": [
    "import networkx as nx\n",
    "import numpy as np\n",
    "\n",
    "def map_label_index(nodes):\n",
    "    indices = dict()\n",
    "    for i in range(len(nodes)):\n",
    "        indices[list(nodes)[i]] = i\n",
    "        \n",
    "    return indices,len(indices)\n",
    "\n",
    "def create_graph(nodes,edges):\n",
    "    G = nx.Graph()\n",
    "    G.add_nodes_from(nodes)\n",
    "    G.add_edges_from(links)\n",
    "    return G\n",
    "\n",
    "def get_P_matrix(G):\n",
    "    A = nx.adjacency_matrix(G) # -> return type is scipy.sparse.csr_matrix\n",
    "    A = A.toarray() # convert A to a numpy array\n",
    "    degrees = np.sum(A,axis=1)\n",
    "    D = np.diag(degrees)\n",
    "    P = np.linalg.inv(D) @ A\n",
    "    \n",
    "    return P\n",
    "\n",
    "def get_submatrices(P,regular_id,stubborn_id):\n",
    "    # Submatrices\n",
    "    # Using ix_ one can construct index arrays that will \n",
    "    # index a cross product.\n",
    "    \n",
    "    #For instamce:\n",
    "    # a[np.ix_([1,3],[2,5])] returns the array [[a[1,2] a[1,5]], [a[3,2] a[3,5]]].\n",
    "    Q = P[np.ix_(regular_id, regular_id)]\n",
    "    E = P[np.ix_(regular_id, stubborn_id)]\n",
    "    \n",
    "    return Q,E\n",
    "\n",
    "def evolve(x,n_iter,regular_id,stubborn_id,Q,E):\n",
    "    \n",
    "    for t in range(1,n_iter):\n",
    "        x[regular_id, t] = Q @ x[regular_id, t-1] + E @ x[stubborn_id, t-1]\n",
    "        x[stubborn_id, t] = x[stubborn_id, t-1];\n",
    "            \n",
    "    return x[:,n_iter-1]\n",
    "\n",
    "def evolve_nu(x,n_iter,regular_id,stubborn_id,Q,E,nu=None):\n",
    "    \n",
    "    if nu is None:\n",
    "        nu = np.ones(len(x))\n",
    "    for t in range(1,n_iter):\n",
    "        x[regular_id, t] = Q @ x[regular_id, t-1] + E @ x[stubborn_id, t-1]\n",
    "        x[stubborn_id, t] = x[stubborn_id, t-1];\n",
    "            \n",
    "    return x[:,n_iter-1], nu * x[:,n_iter-1]\n",
    "\n",
    "def show_best_placements(results,start_node=1):\n",
    "    \n",
    "    found = False\n",
    "    max=-1\n",
    "    s='{'\n",
    "    for i,elem in enumerate(results):\n",
    "        if i < len(results)-1 and not elem == results[i+1] :\n",
    "            found = True\n",
    "            \n",
    "        if (elem >= max):\n",
    "            max = elem\n",
    "            s+=str(i+start_node+1) + ','\n",
    "            \n",
    "        \n",
    "    if not found:\n",
    "        print('Maximization of H(s) is independently from the placement of the second stubborn')\n",
    "        return\n",
    "    \n",
    "    message = 'According to the numeration of nodes present in the uploaded pdf(.tex) file, maximization of H(s) is obtaining by choosing s as one of the element ot set of nodes:'+ s\n",
    "    print(message[:-1] + '}')\n",
    "    \n",
    "    "
   ]
  },
  {
   "cell_type": "markdown",
   "metadata": {},
   "source": [
    "**Cube**"
   ]
  },
  {
   "cell_type": "markdown",
   "metadata": {},
   "source": [
    "Find the optimal placements of the second stubborn maximizing H(s)"
   ]
  },
  {
   "cell_type": "code",
   "execution_count": 116,
   "metadata": {},
   "outputs": [
    {
     "data": {
      "image/png": "[encoded data removed]",
      "text/plain": [
       "<Figure size 432x288 with 1 Axes>"
      ]
     },
     "metadata": {},
     "output_type": "display_data"
    }
   ],
   "source": [
    "import numpy as np\n",
    "nodes = np.arange(1,8+1)\n",
    "links = [(1,2),(1,4),(1,5),(2,3),(2,6),(3,4),(3,8),(4,7),(5,6),(5,8),(6,7),(7,8)]\n",
    "\n",
    "#nodes = np.arange(1,4+1)\n",
    "#links = [(1,2),(1,3),(2,4),(3,4)]\n",
    "G=create_graph(nodes,links)\n",
    "nx.draw(G)"
   ]
  },
  {
   "cell_type": "code",
   "execution_count": 117,
   "metadata": {},
   "outputs": [
    {
     "name": "stdout",
     "output_type": "stream",
     "text": [
      "Maximization of H(s) is independently from the placement of the second stubborn\n"
     ]
    }
   ],
   "source": [
    "# Construct a dictionary that maps the label of nodes  \n",
    "\n",
    "label_index,n_nodes = map_label_index(G.nodes)\n",
    "\n",
    "start_node=1\n",
    "end_node = n_nodes\n",
    "\n",
    "results=[]\n",
    "for i in range(start_node+1,end_node+1):\n",
    "    # Number of iterations\n",
    "    n_iter = 100;\n",
    "\n",
    "    # Stubborn and regular nodes\n",
    "    stubborn = [1,i];\n",
    "    stubborn_id = [label_index.get(key) for key in stubborn]\n",
    "    regular = [node for node in G.nodes if node not in stubborn]\n",
    "    regular_id = [id for id in range(n_nodes) if id not in stubborn_id]\n",
    "\n",
    "    # Input to stubborn nodes\n",
    "    u = [0,1]\n",
    "\n",
    "    # P matrix\n",
    "    P = get_P_matrix(G)\n",
    "\n",
    "    # Q,E submatrix of P, selected accordingly to the choosen regular nodes and stubborn nodes\n",
    "    Q,E = get_submatrices(P,regular_id,stubborn_id)\n",
    "\n",
    "    # Sample a random initial condition for regular nodes\n",
    "    ic = np.random.uniform(0,1,len(regular))\n",
    "\n",
    "    # Set the initial condition for the dynamics\n",
    "    x = np.zeros((n_nodes,n_iter))\n",
    "    x[stubborn_id,0] = u;\n",
    "    x[regular_id,0] = ic;\n",
    "\n",
    "    #Displaying the initial condition\n",
    "    #print(\"Initial condition:\\n\")\n",
    "    #for i,fam in enumerate(nodes):\n",
    "        #print(\"\\t\",fam,\":\", x[i,0])\n",
    "\n",
    "    x_final = evolve(x,n_iter,regular_id,stubborn_id,Q,E)\n",
    "    mean_x_final = round(np.mean(x_final),3)\n",
    "    \n",
    "    results.append(mean_x_final)\n",
    "    #Displaying the equilibrium vector\n",
    "#    print(\"\\n\\nEquilibrium vector:\\n\")\n",
    "#    for key in label_index.keys():\n",
    "#        print(\"\\t\",key, x_final[label_index[key]])\n",
    "\n",
    "show_best_placements(results)"
   ]
  },
  {
   "cell_type": "markdown",
   "metadata": {},
   "source": [
    "**Cycle**"
   ]
  },
  {
   "cell_type": "code",
   "execution_count": 118,
   "metadata": {},
   "outputs": [
    {
     "data": {
      "image/png": "[encoded data removed]",
      "text/plain": [
       "<Figure size 432x288 with 1 Axes>"
      ]
     },
     "metadata": {},
     "output_type": "display_data"
    }
   ],
   "source": [
    "import numpy as np\n",
    "G_len = 6\n",
    "start = 1\n",
    "nodes = np.arange(start,G_len + start)\n",
    "links = [(1,2),(2,3),(3,4),(4,5),(5,6),(1,6)]\n",
    "    \n",
    "#Opinion vector nu\n",
    "nu = np.array([1,3,2,3,2,3])\n",
    "\n",
    "G=create_graph(nodes,links)\n",
    "nx.draw(G)"
   ]
  },
  {
   "cell_type": "markdown",
   "metadata": {},
   "source": [
    "Find the optimal placements of the second stubborn maximizing H(s)"
   ]
  },
  {
   "cell_type": "code",
   "execution_count": 119,
   "metadata": {},
   "outputs": [
    {
     "name": "stdout",
     "output_type": "stream",
     "text": [
      "Accorting to the numeration of nodes present in the uploader pdf(.tex) file, maximization of H(s) is obtaining by choosing s as one of the element ot set of nodes:{2,6}\n"
     ]
    }
   ],
   "source": [
    "# Construct a dictionary that maps the label of nodes  \n",
    "\n",
    "label_index,n_nodes = map_label_index(G.nodes)\n",
    "\n",
    "start_node=1\n",
    "end_node = n_nodes\n",
    "\n",
    "results=[]\n",
    "for i in range(start_node+1,end_node+1):\n",
    "    # Number of iterations\n",
    "    n_iter = 100;\n",
    "\n",
    "    # Stubborn and regular nodes\n",
    "    stubborn = [1,i];\n",
    "    stubborn_id = [label_index.get(key) for key in stubborn]\n",
    "    regular = [node for node in G.nodes if node not in stubborn]\n",
    "    regular_id = [id for id in range(n_nodes) if id not in stubborn_id]\n",
    "\n",
    "    # Input to stubborn nodes\n",
    "    u = [0,1]\n",
    "\n",
    "    # P matrix\n",
    "    P = get_P_matrix(G)\n",
    "\n",
    "    # Q,E submatrix of P, selected accordingly to the choosen regular nodes and stubborn nodes\n",
    "    Q,E = get_submatrices(P,regular_id,stubborn_id)\n",
    "\n",
    "    # Sample a random initial condition for regular nodes\n",
    "    ic = np.random.uniform(0,1,len(regular))\n",
    "\n",
    "    # Set the initial condition for the dynamics\n",
    "    x = np.zeros((n_nodes,n_iter))\n",
    "    x[stubborn_id,0] = u;\n",
    "    x[regular_id,0] = ic;\n",
    "\n",
    "    #Displaying the initial condition\n",
    "    #print(\"Initial condition:\\n\")\n",
    "    #for i,fam in enumerate(nodes):\n",
    "        #print(\"\\t\",fam,\":\", x[i,0])\n",
    "\n",
    "    x_final,xbar_final = evolve_nu(x,n_iter,regular_id,stubborn_id,Q,E,nu)\n",
    "    mean_x_final = round(np.mean(x_final),3)\n",
    "    \n",
    "    #This is the mean to use to check the solution!\n",
    "    mean_xbar_final = round(np.mean(xbar_final),3)\n",
    "    \n",
    "    results.append(mean_xbar_final)\n",
    "    #Displaying the equilibrium vector\n",
    "#    print(\"\\n\\nEquilibrium vector:\\n\")\n",
    "#    for key in label_index.keys():\n",
    "#        print(\"\\t\",key, x_final[label_index[key]])\n",
    "show_best_placements(results)"
   ]
  }
 ],
 "metadata": {
  "kernelspec": {
   "display_name": "Python 3",
   "language": "python",
   "name": "python3"
  },
  "language_info": {
   "codemirror_mode": {
    "name": "ipython",
    "version": 3
   },
   "file_extension": ".py",
   "mimetype": "text/x-python",
   "name": "python",
   "nbconvert_exporter": "python",
   "pygments_lexer": "ipython3",
   "version": "3.7.4"
  }
 },
 "nbformat": 4,
 "nbformat_minor": 2
}
